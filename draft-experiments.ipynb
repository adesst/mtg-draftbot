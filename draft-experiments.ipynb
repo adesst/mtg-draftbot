{
 "cells": [
  {
   "cell_type": "code",
   "execution_count": 1,
   "metadata": {},
   "outputs": [],
   "source": [
    "import numpy as np\n",
    "import pandas as pd\n",
    "\n",
    "%matplotlib inline\n",
    "import matplotlib.pyplot as plt\n",
    "from matplotlib.collections import LineCollection\n",
    "from matplotlib.colors import ListedColormap, BoundaryNorm\n",
    "\n",
    "import matplotlib\n",
    "matplotlib.style.use('seaborn')\n",
    "\n",
    "from draftbot import Draft\n",
    "from itertools import repeat"
   ]
  },
  {
   "cell_type": "code",
   "execution_count": 2,
   "metadata": {},
   "outputs": [],
   "source": [
    "import json\n",
    "\n",
    "card_values = pd.DataFrame(json.load(open('data/m19-custom-card-values-reduced.json'))).T"
   ]
  },
  {
   "cell_type": "code",
   "execution_count": 3,
   "metadata": {},
   "outputs": [
    {
     "data": {
      "text/plain": [
       "<matplotlib.axes._subplots.AxesSubplot at 0x116245c88>"
      ]
     },
     "execution_count": 3,
     "metadata": {},
     "output_type": "execute_result"
    },
    {
     "data": {
      "image/png": "[encoded data removed]",
      "text/plain": [
       "<Figure size 432x288 with 1 Axes>"
      ]
     },
     "metadata": {
      "needs_background": "light"
     },
     "output_type": "display_data"
    }
   ],
   "source": [
    "card_values.sum().plot.bar(color='grey')"
   ]
  },
  {
   "cell_type": "code",
   "execution_count": 4,
   "metadata": {
    "scrolled": true
   },
   "outputs": [
    {
     "name": "stderr",
     "output_type": "stream",
     "text": [
      "/Users/matthewdrury/Projects/mtg-draft-bot/draftbot.py:159: RuntimeWarning: invalid value encountered in true_divide\n",
      "  probs = exps / row_sums.reshape(-1, 1)\n",
      "/Users/matthewdrury/Projects/mtg-draft-bot/draftbot.py:103: RuntimeWarning: invalid value encountered in less\n",
      "  pick_idx = np.random.choice(self.set.n_cards, p=row)\n"
     ]
    }
   ],
   "source": [
    "draft = Draft(cards_path='data/m19-subset-reduced.json',\n",
    "              card_values_path='data/m19-custom-card-values-reduced.json')\n",
    "draft.draft()"
   ]
  },
  {
   "cell_type": "markdown",
   "metadata": {},
   "source": [
    "## Assemble Some More Convenient Data Structures"
   ]
  },
  {
   "cell_type": "code",
   "execution_count": 5,
   "metadata": {},
   "outputs": [],
   "source": [
    "preferences_history_dfs = []\n",
    "\n",
    "for drafter_idx in range(draft.n_drafters):\n",
    "    preferences_history_dfs.append(\n",
    "        pd.DataFrame(\n",
    "            draft.preferences_history[drafter_idx, :, :].T,\n",
    "            columns=draft.archetype_names))"
   ]
  },
  {
   "cell_type": "code",
   "execution_count": 6,
   "metadata": {},
   "outputs": [],
   "source": [
    "cards_picked = []\n",
    "for i in range(8):\n",
    "    df = pd.DataFrame(draft.picks[i, :, :].astype(int).T, columns=draft.card_names)\n",
    "    cards_picked.append(df.idxmax(axis=1))"
   ]
  },
  {
   "cell_type": "markdown",
   "metadata": {},
   "source": [
    "## Plotting Code"
   ]
  },
  {
   "cell_type": "code",
   "execution_count": 15,
   "metadata": {},
   "outputs": [],
   "source": [
    "def make_archytype_color_mapping(alpha):\n",
    "    arch_color_mapping = {\n",
    "        'W': [1, 0.8, 0.5, alpha],\n",
    "        'U': [0.2, 0.2, 1, alpha],\n",
    "        'B': [0.2, 0.2, 0.2, alpha],\n",
    "        'R': [1, 0, 0, alpha],\n",
    "        'G': [0, 0.8, 0, alpha]\n",
    "    }\n",
    "    return arch_color_mapping\n",
    "\n",
    "rarity_color_mapping = {\n",
    "    'common': [0.0, 0.0, 0.0],\n",
    "    'uncommon': [192 / 255, 192 / 255, 192 / 255],\n",
    "    'rare': [255 / 255, 215 / 255, 0],\n",
    "    'mythic': [255 / 255, 140 / 255, 0],    \n",
    "}\n",
    "\n",
    "def make_archytype_colors(arch, alpha=1):\n",
    "    arch_color_mapping = make_archytype_color_mapping(alpha)\n",
    "    return [arch_color_mapping[c] for c in arch]\n",
    "\n",
    "card_color_mapping = {\n",
    "    card['name']: card['colorIdentity'] for card in draft.set.cards\n",
    "}\n",
    "\n",
    "card_rarity_mapping = {\n",
    "    card['name']: card['rarity'] for card in draft.set.cards\n",
    "}"
   ]
  },
  {
   "cell_type": "code",
   "execution_count": 16,
   "metadata": {},
   "outputs": [],
   "source": [
    "def plot_alternating_color_line(ax, x, y, colors):\n",
    "    x, y = insert_middpoints(x.astype(float)), insert_middpoints(y.astype(float))\n",
    "    points = np.array([x, y]).T.reshape(-1, 1, 2)\n",
    "    segments = np.concatenate([points[:-1], points[1:]], axis=1)\n",
    "    segment_boundaries = insert_middpoints(np.arange(x.min(), x.max() + 1))\n",
    "    n_bins = len(segment_boundaries) - 1\n",
    "    cmap = ListedColormap((colors*n_bins)[:n_bins])\n",
    "    norm = BoundaryNorm(segment_boundaries, cmap.N)\n",
    "    lc = LineCollection(segments, cmap=cmap, norm=norm)\n",
    "    lc.set_array(x)\n",
    "    lc.set_linewidth(2)\n",
    "    ax.add_collection(lc)\n",
    "\n",
    "def insert_middpoints(arr):\n",
    "    midpoints = (arr[:-1] + arr[1:]) / 2\n",
    "    return np.insert(arr, np.arange(1, len(arr)), midpoints)"
   ]
  },
  {
   "cell_type": "code",
   "execution_count": 17,
   "metadata": {},
   "outputs": [],
   "source": [
    "def plot_color_identity_dot(ax, x, y, color_identity, s=100, alpha=1.0):\n",
    "    arch_color_mapping = make_archytype_color_mapping(alpha)\n",
    "    colors = [arch_color_mapping[c] for c in color_identity]\n",
    "    if len(colors) == 0:\n",
    "        ax.scatter(x, y, c=['grey'], s=s, zorder=2)\n",
    "    if len(colors) == 1:\n",
    "        ax.scatter(x, y, c=[colors[0]], s=s, zorder=2)\n",
    "    if len(colors) >= 2:\n",
    "        plot_multi_color_dot(ax, x, y, colors)\n",
    "\n",
    "def plot_multi_color_dot(ax, x, y, colors, s=100):\n",
    "    angles = list(np.linspace(start=0, stop=2*np.pi, num=(len(colors) + 1)))\n",
    "    begin_angles = angles[:-1]\n",
    "    end_angles = angles[1:]\n",
    "    for angle, end_angle, color in zip(begin_angles, end_angles, colors):\n",
    "        xs = [0] + np.sin(np.linspace(angle, end_angle, 25)).tolist()\n",
    "        ys = [0] + np.cos(np.linspace(angle, end_angle, 25)).tolist()\n",
    "        xy = np.column_stack([xs, ys])\n",
    "        ax.scatter(x, y, marker=xy, s=s, facecolor=color, zorder=2)"
   ]
  },
  {
   "cell_type": "code",
   "execution_count": 18,
   "metadata": {},
   "outputs": [],
   "source": [
    "def softmax(df):\n",
    "    return pd.DataFrame(\n",
    "         np.exp(df).values / np.exp(df).sum(axis=1).values.reshape(-1, 1),\n",
    "         columns=df.columns)\n",
    "\n",
    "def normalize(df):\n",
    "    return pd.DataFrame(\n",
    "        df.values / df.sum(axis=1).values.reshape(-1, 1),\n",
    "        columns=df.columns)"
   ]
  },
  {
   "cell_type": "code",
   "execution_count": 35,
   "metadata": {},
   "outputs": [],
   "source": [
    "def plot_history_lines(ax, \n",
    "                       history_df, \n",
    "                       normalization_function=softmax, \n",
    "                       winning_archytype=None):\n",
    "    history_df = normalization_function(history_df)\n",
    "    if not winning_archytype:\n",
    "        winning_archytype = history_df.iloc[-1, :].idxmax()\n",
    "    winning_history = history_df.loc[:, winning_archytype]\n",
    "    \n",
    "    colors = make_archytype_colors(winning_archytype, alpha=1.0)\n",
    "    plot_alternating_color_line(\n",
    "        ax, \n",
    "        winning_history.index.values, \n",
    "        winning_history.values, \n",
    "        colors)\n",
    "    \n",
    "    for arch in set(history_df.columns) - set([winning_archytype]):\n",
    "        arch_history = history_df.loc[:, arch]\n",
    "        colors = make_archytype_colors(arch, alpha=0.2)\n",
    "        plot_alternating_color_line(\n",
    "            ax,\n",
    "            arch_history.index.values,\n",
    "            arch_history.values, colors)\n",
    "    \n",
    "    return winning_archytype, winning_history\n",
    "\n",
    "def plot_drafter_history(ax,\n",
    "                         history_df,\n",
    "                         cards_picked,\n",
    "                         normalization_function=softmax):\n",
    "    \n",
    "    winning_archytype, winning_history = plot_history_lines(\n",
    "        ax,\n",
    "        history_df,\n",
    "        normalization_function=normalization_function)\n",
    "    \n",
    "    card_rarities = [card_rarity_mapping[card] for card in cards_picked]\n",
    "    card_colors = [card_color_mapping[card] for card in cards_picked]\n",
    "    dot_data = zip(\n",
    "        card_colors, \n",
    "        card_rarities, \n",
    "        winning_history.index.values,\n",
    "        winning_history.values[:-1])\n",
    "    for pick_num, (color_pair, rarity, x, y) in enumerate(dot_data):\n",
    "        ax.scatter(x, y, s=170, c=[rarity_color_mapping[rarity]])\n",
    "        plot_color_identity_dot(ax, x, y, color_pair)\n",
    "        if pick_num % 14 == 1:\n",
    "            ax.axvline(pick_num, linestyle='--', alpha=0.5)\n",
    "    \n",
    "    return winning_archytype, winning_history"
   ]
  },
  {
   "cell_type": "code",
   "execution_count": 37,
   "metadata": {},
   "outputs": [
    {
     "data": {
      "text/plain": [
       "(-0.1, 1.1)"
      ]
     },
     "execution_count": 37,
     "metadata": {},
     "output_type": "execute_result"
    },
    {
     "data": {
      "image/png": "[encoded data removed]",
      "text/plain": [
       "<Figure size 1152x288 with 1 Axes>"
      ]
     },
     "metadata": {
      "needs_background": "light"
     },
     "output_type": "display_data"
    }
   ],
   "source": [
    "fig, ax = plt.subplots(figsize=(16, 4))\n",
    "\n",
    "plot_drafter_history(ax, \n",
    "                     preferences_history_dfs[5],\n",
    "                     cards_picked[5], \n",
    "                     normalization_function=softmax)\n",
    "ax.set_xlim(-1, 43)\n",
    "ax.set_ylim(-0.1, 1.1)"
   ]
  },
  {
   "cell_type": "code",
   "execution_count": null,
   "metadata": {
    "scrolled": false
   },
   "outputs": [],
   "source": [
    "fig, axs = plt.subplots(8*2, 1, figsize=(16, 20*2))\n",
    "\n",
    "for (ax1, ax2), drafter in zip(zip(axs[::2], axs[1::2]), drafters):\n",
    "    \n",
    "    winning_archytype, _ = plot_drafter_history(ax1, drafter)\n",
    "    \n",
    "    plot_history_lines(\n",
    "        ax2,\n",
    "        drafter.archytype_power_seen_history, \n",
    "        winning_archytype=winning_archytype,\n",
    "        normalization_function=normalize)\n",
    "    ax1.set_xlabel(\"Pick Number\")\n",
    "    ax1.set_ylabel(\"Color Pair Preference\")\n",
    "    \n",
    "    ax1.set_xlim(-1, 43)\n",
    "    ax2.set_xlim(-1, 43)\n",
    "\n",
    "    ax1.set_ylim(-0.1, 1.1)\n",
    "    ax2.set_ylim(0.05, 0.2)\n",
    "    \n",
    "fig.tight_layout()"
   ]
  },
  {
   "cell_type": "code",
   "execution_count": null,
   "metadata": {},
   "outputs": [],
   "source": []
  }
 ],
 "metadata": {
  "kernelspec": {
   "display_name": "Python 3",
   "language": "python",
   "name": "python3"
  },
  "language_info": {
   "codemirror_mode": {
    "name": "ipython",
    "version": 3
   },
   "file_extension": ".py",
   "mimetype": "text/x-python",
   "name": "python",
   "nbconvert_exporter": "python",
   "pygments_lexer": "ipython3",
   "version": "3.7.1"
  }
 },
 "nbformat": 4,
 "nbformat_minor": 2
}
