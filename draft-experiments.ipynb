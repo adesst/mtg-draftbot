{
 "cells": [
  {
   "cell_type": "code",
   "execution_count": null,
   "metadata": {},
   "outputs": [],
   "source": [
    "import numpy as np\n",
    "import pandas as pd\n",
    "\n",
    "%matplotlib inline\n",
    "import matplotlib.pyplot as plt\n",
    "from matplotlib.collections import LineCollection\n",
    "from matplotlib.colors import ListedColormap, BoundaryNorm\n",
    "\n",
    "import matplotlib\n",
    "matplotlib.style.use('seaborn')\n",
    "\n",
    "from draftbot import Draft\n",
    "from itertools import repeat"
   ]
  },
  {
   "cell_type": "code",
   "execution_count": null,
   "metadata": {},
   "outputs": [],
   "source": [
    "draft = Draft()\n",
    "drafters = draft.draft()"
   ]
  },
  {
   "cell_type": "code",
   "execution_count": null,
   "metadata": {},
   "outputs": [],
   "source": [
    "drafter = drafters[0]"
   ]
  },
  {
   "cell_type": "code",
   "execution_count": null,
   "metadata": {},
   "outputs": [],
   "source": [
    "def history_to_dataframe(history):\n",
    "    archytypes = list(history[0].keys())\n",
    "    history_array = np.zeros((len(history), len(archytypes)))\n",
    "    history_df = pd.DataFrame(history_array, columns=archytypes)\n",
    "    for idx, preferences in enumerate(history):\n",
    "        for arch, pref in preferences.items():\n",
    "            history_df.loc[history_df.index[idx], arch] = pref\n",
    "    return history_df"
   ]
  },
  {
   "cell_type": "code",
   "execution_count": null,
   "metadata": {},
   "outputs": [],
   "source": [
    "def make_archytype_color_mapping(alpha):\n",
    "    arch_color_mapping = {\n",
    "        'W': [0.6, 0.6, 0.6, alpha],\n",
    "        'U': [0, 0, 1, alpha],\n",
    "        'B': [0, 0, 0, alpha],\n",
    "        'R': [1, 0, 0, alpha],\n",
    "        'G': [0, 0.8, 0, alpha]\n",
    "    }\n",
    "    return arch_color_mapping\n",
    "\n",
    "def plot_alternating_color_line(ax, x, y, colors):\n",
    "    points = np.array([x, y]).T.reshape(-1, 1, 2)\n",
    "    segments = np.concatenate([points[:-1], points[1:]], axis=1)\n",
    "    segment_boundaries = np.arange(x.min(), x.max() + 1)\n",
    "    n_bins = len(segment_boundaries) - 1\n",
    "    cmap = ListedColormap((colors*n_bins)[:n_bins])\n",
    "    norm = BoundaryNorm(segment_boundaries, cmap.N)\n",
    "    lc = LineCollection(segments, cmap=cmap, norm=norm)\n",
    "    lc.set_array(x)\n",
    "    lc.set_linewidth(2)\n",
    "    ax.add_collection(lc)\n",
    "    \n",
    "def make_archytype_colors(arch, alpha=1):\n",
    "    arch_color_mapping = make_archytype_color_mapping(alpha)\n",
    "    return [arch_color_mapping[c] for c in arch]"
   ]
  },
  {
   "cell_type": "code",
   "execution_count": null,
   "metadata": {},
   "outputs": [],
   "source": [
    "def plot_color_identity_dot(ax, x, y, color_identity, alpha=1.0):\n",
    "    arch_color_mapping = make_archytype_color_mapping(alpha)\n",
    "    colors = [arch_color_mapping[c] for c in color_identity]\n",
    "    if len(colors) == 1:\n",
    "        ax.scatter(x, y, c=[colors[0]], zorder=3)"
   ]
  },
  {
   "cell_type": "code",
   "execution_count": null,
   "metadata": {},
   "outputs": [],
   "source": [
    "fig, ax = plt.subplots(figsize=(13, 4))\n",
    "\n",
    "history_df = history_to_dataframe(drafter._archytype_preferences_history)\n",
    "card_colors = [card['colorIdentity'] for card in drafter.cards]\n",
    "\n",
    "winning_archytype = history_df.max().idxmax()\n",
    "winning_history = history_df.loc[:, winning_archytype]\n",
    "\n",
    "colors = make_archytype_colors(winning_archytype, alpha=1.0)\n",
    "plot_alternating_color_line(ax, winning_history.index.values, winning_history.values, colors)\n",
    "\n",
    "for arch in set(history_df.columns) - set([winning_archytype]):\n",
    "    arch_history = history_df.loc[:, arch]\n",
    "    colors = make_archytype_colors(arch, alpha=0.2)\n",
    "    plot_alternating_color_line(ax, arch_history.index.values, arch_history.values, colors)\n",
    "\n",
    "for color_pair, x, y in zip(card_colors, winning_history.index.values, winning_history.values):\n",
    "    plot_color_identity_dot(ax, x, y, color_pair)    \n",
    "\n",
    "    ax.set_xlim(0, 36)\n",
    "ax.set_ylim(0, 34)"
   ]
  },
  {
   "cell_type": "code",
   "execution_count": null,
   "metadata": {},
   "outputs": [],
   "source": [
    "# first define the ratios\n",
    "r1 = 0.2       # 20%\n",
    "r2 = r1 + 0.4  # 40%\n",
    "\n",
    "# define some sizes of the scatter marker\n",
    "sizes = np.array([60, 80, 120])\n",
    "\n",
    "# calculate the points of the first pie marker\n",
    "#\n",
    "# these are just the origin (0,0) +\n",
    "# some points on a circle cos,sin\n",
    "x = [0] + np.cos(np.linspace(0, 2 * np.pi * r1, 10)).tolist()\n",
    "y = [0] + np.sin(np.linspace(0, 2 * np.pi * r1, 10)).tolist()\n",
    "xy1 = np.column_stack([x, y])\n",
    "s1 = np.abs(xy1).max()\n",
    "\n",
    "x = [0] + np.cos(np.linspace(2 * np.pi * r1, 2 * np.pi * r2, 10)).tolist()\n",
    "y = [0] + np.sin(np.linspace(2 * np.pi * r1, 2 * np.pi * r2, 10)).tolist()\n",
    "xy2 = np.column_stack([x, y])\n",
    "s2 = np.abs(xy2).max()\n",
    "\n",
    "x = [0] + np.cos(np.linspace(2 * np.pi * r2, 2 * np.pi, 10)).tolist()\n",
    "y = [0] + np.sin(np.linspace(2 * np.pi * r2, 2 * np.pi, 10)).tolist()\n",
    "xy3 = np.column_stack([x, y])\n",
    "s3 = np.abs(xy3).max()\n",
    "\n",
    "fig, ax = plt.subplots()\n",
    "ax.scatter(range(3), range(3), marker=(xy1, 0),\n",
    "           s=s1 ** 2 * sizes, facecolor='blue')\n",
    "ax.scatter(range(3), range(3), marker=(xy2, 0),\n",
    "           s=s2 ** 2 * sizes, facecolor='green')\n",
    "ax.scatter(range(3), range(3), marker=(xy3, 0),\n",
    "           s=s3 ** 2 * sizes, facecolor='red')"
   ]
  }
 ],
 "metadata": {
  "kernelspec": {
   "display_name": "Python 3",
   "language": "python",
   "name": "python3"
  },
  "language_info": {
   "codemirror_mode": {
    "name": "ipython",
    "version": 3
   },
   "file_extension": ".py",
   "mimetype": "text/x-python",
   "name": "python",
   "nbconvert_exporter": "python",
   "pygments_lexer": "ipython3",
   "version": "3.7.1"
  }
 },
 "nbformat": 4,
 "nbformat_minor": 2
}
