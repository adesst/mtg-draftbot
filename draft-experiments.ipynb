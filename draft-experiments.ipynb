{
 "cells": [
  {
   "cell_type": "code",
   "execution_count": 1,
   "metadata": {},
   "outputs": [],
   "source": [
    "import numpy as np\n",
    "import pandas as pd\n",
    "\n",
    "%matplotlib inline\n",
    "import matplotlib.pyplot as plt\n",
    "from matplotlib.collections import LineCollection\n",
    "from matplotlib.colors import ListedColormap, BoundaryNorm\n",
    "\n",
    "import matplotlib\n",
    "matplotlib.style.use('seaborn')\n",
    "\n",
    "from draftbot import Draft\n",
    "from itertools import repeat"
   ]
  },
  {
   "cell_type": "code",
   "execution_count": 2,
   "metadata": {},
   "outputs": [],
   "source": [
    "draft = Draft()\n",
    "drafters = draft.draft()"
   ]
  },
  {
   "cell_type": "code",
   "execution_count": 3,
   "metadata": {},
   "outputs": [],
   "source": [
    "drafter = drafters[0]"
   ]
  },
  {
   "cell_type": "code",
   "execution_count": 4,
   "metadata": {},
   "outputs": [],
   "source": [
    "def history_to_dataframe(history):\n",
    "    archytypes = list(history[0].keys())\n",
    "    history_array = np.zeros((len(history), len(archytypes)))\n",
    "    history_df = pd.DataFrame(history_array, columns=archytypes)\n",
    "    for idx, preferences in enumerate(history):\n",
    "        for arch, pref in preferences.items():\n",
    "            history_df.loc[history_df.index[idx], arch] = pref\n",
    "    return history_df"
   ]
  },
  {
   "cell_type": "code",
   "execution_count": 5,
   "metadata": {},
   "outputs": [],
   "source": [
    "def plot_alternating_color_line(ax, x, y, colors):\n",
    "    points = np.array([x, y]).T.reshape(-1, 1, 2)\n",
    "    segments = np.concatenate([points[:-1], points[1:]], axis=1)\n",
    "    segment_boundaries = np.arange(x.min(), x.max())\n",
    "    n_bins = len(segment_boundaries) - 1\n",
    "    cmap = ListedColormap((colors*n_bins)[:n_bins])\n",
    "    norm = BoundaryNorm(segment_boundaries, cmap.N)\n",
    "    lc = LineCollection(segments, cmap=cmap, norm=norm)\n",
    "    lc.set_array(x)\n",
    "    lc.set_linewidth(2)\n",
    "    ax.add_collection(lc)\n",
    "    \n",
    "def make_archytype_colors(arch, alpha=1):\n",
    "    arch_color_mapping = {\n",
    "        'W': [0.6, 0.6, 0.6, alpha],\n",
    "        'U': [0, 0, 1, alpha],\n",
    "        'B': [0, 0, 0, alpha],\n",
    "        'R': [1, 0, 0, alpha],\n",
    "        'G': [0, 0.8, 0, alpha]\n",
    "    }\n",
    "    return [arch_color_mapping[c] for c in arch]"
   ]
  },
  {
   "cell_type": "code",
   "execution_count": 6,
   "metadata": {},
   "outputs": [
    {
     "data": {
      "text/plain": [
       "(0, 24)"
      ]
     },
     "execution_count": 6,
     "metadata": {},
     "output_type": "execute_result"
    },
    {
     "data": {
      "image/png": "[encoded data removed]",
      "text/plain": [
       "<Figure size 936x288 with 1 Axes>"
      ]
     },
     "metadata": {
      "needs_background": "light"
     },
     "output_type": "display_data"
    }
   ],
   "source": [
    "fig, ax = plt.subplots(figsize=(13, 4))\n",
    "\n",
    "history_df = history_to_dataframe(drafter._archytype_preferences_history)\n",
    "\n",
    "winning_archytype = history_df.max().idxmax()\n",
    "winning_history = history_df.loc[:, winning_archytype]\n",
    "\n",
    "colors = make_archytype_colors(winning_archytype, alpha=1.0)\n",
    "plot_alternating_color_line(ax, winning_history.index.values, winning_history.values, colors)\n",
    "\n",
    "for arch in set(history_df.columns) - set([winning_archytype]):\n",
    "    arch_history = history_df.loc[:, arch]\n",
    "    colors = make_archytype_colors(arch, alpha=0.2)\n",
    "    plot_alternating_color_line(ax, arch_history.index.values, arch_history.values, colors)\n",
    "\n",
    "    ax.set_xlim(0, 24)\n",
    "ax.set_ylim(0, 24)"
   ]
  },
  {
   "cell_type": "code",
   "execution_count": 13,
   "metadata": {},
   "outputs": [
    {
     "name": "stdout",
     "output_type": "stream",
     "text": [
      "Brawl-Bash Ogre :  ['B', 'R']\n",
      "Sarkhan's Whelp :  ['R']\n",
      "Onakke Ogre :  ['R']\n",
      "Sarkhan's Whelp :  ['R']\n",
      "Tectonic Rift :  ['R']\n",
      "Stitcher's Supplier :  ['B']\n",
      "Electrify :  ['R']\n",
      "Elvish Rejuvenator :  ['G']\n",
      "Infectious Horror :  ['B']\n",
      "Mind Rot :  ['B']\n",
      "Infectious Horror :  ['B']\n",
      "Skyscanner :  []\n",
      "Goblin Motivator :  ['R']\n",
      "Demanding Dragon :  ['R']\n",
      "Tectonic Rift :  ['R']\n",
      "Trumpet Blast :  ['R']\n",
      "Banefire :  ['R']\n",
      "Fiery Finish :  ['R']\n",
      "Volley Veteran :  ['R']\n",
      "Radiating Lightning :  ['R']\n",
      "Cancel :  ['U']\n",
      "Rise from the Grave :  ['B']\n",
      "Transmogrifying Wand :  []\n",
      "Reclamation Sage :  ['G']\n",
      "Goblin Trashmaster :  ['R']\n",
      "Stone Quarry :  ['R', 'W']\n",
      "Inferno Hellion :  ['R']\n",
      "Alpine Moon :  ['R']\n",
      "Volley Veteran :  ['R']\n",
      "Trumpet Blast :  ['R']\n",
      "Rise from the Grave :  ['B']\n",
      "Act of Treason :  ['R']\n",
      "Plummet :  ['G']\n",
      "Suspicious Bookcase :  []\n",
      "Guttersnipe :  ['R']\n",
      "Fountain of Renewal :  []\n"
     ]
    }
   ],
   "source": [
    "for card in drafter.cards:\n",
    "    print(card['name'], ': ', card['colorIdentity'])"
   ]
  },
  {
   "cell_type": "code",
   "execution_count": null,
   "metadata": {},
   "outputs": [],
   "source": []
  }
 ],
 "metadata": {
  "kernelspec": {
   "display_name": "Python 3",
   "language": "python",
   "name": "python3"
  },
  "language_info": {
   "codemirror_mode": {
    "name": "ipython",
    "version": 3
   },
   "file_extension": ".py",
   "mimetype": "text/x-python",
   "name": "python",
   "nbconvert_exporter": "python",
   "pygments_lexer": "ipython3",
   "version": "3.7.1"
  }
 },
 "nbformat": 4,
 "nbformat_minor": 2
}
