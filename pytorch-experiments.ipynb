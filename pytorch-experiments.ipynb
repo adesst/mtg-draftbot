{
 "cells": [
  {
   "cell_type": "code",
   "execution_count": 1,
   "metadata": {},
   "outputs": [],
   "source": [
    "import numpy as np\n",
    "import pandas as pd\n",
    "\n",
    "%matplotlib inline\n",
    "import matplotlib.pyplot as plt\n",
    "\n",
    "import torch\n",
    "from torch.utils.data import TensorDataset, DataLoader"
   ]
  },
  {
   "cell_type": "code",
   "execution_count": 3,
   "metadata": {},
   "outputs": [],
   "source": [
    "%load_ext autoreload\n",
    "%autoreload 2"
   ]
  },
  {
   "cell_type": "markdown",
   "metadata": {},
   "source": [
    "## Dataset Setup"
   ]
  },
  {
   "cell_type": "code",
   "execution_count": 45,
   "metadata": {},
   "outputs": [],
   "source": [
    "from make_analytic_table import AnalyticTableConstructor\n",
    "\n",
    "atc = AnalyticTableConstructor(db_path=\"data/drafts.sqlite\", validate_data=False)\n",
    "X, y, y_names_mapping = atc.make_analytic_base_table()"
   ]
  },
  {
   "cell_type": "code",
   "execution_count": 46,
   "metadata": {},
   "outputs": [],
   "source": [
    "N_CARDS = int(X.shape[1] / 2)\n",
    "\n",
    "assert X.shape[1] == N_CARDS * 2"
   ]
  },
  {
   "cell_type": "markdown",
   "metadata": {},
   "source": [
    "When there is more than one of a single card in a pack, we want to consider that just a single copy of that card for convenience.  Otherwise, we would have to apply this logic inside the model fitting logic, and track the gradient of this transformation.\n",
    "\n",
    "In real (non-simulated) packs, this situation cannot happen anyway."
   ]
  },
  {
   "cell_type": "code",
   "execution_count": 47,
   "metadata": {},
   "outputs": [],
   "source": [
    "X.iloc[:, 0:N_CARDS] = np.sign(X.iloc[:, 0:N_CARDS])"
   ]
  },
  {
   "cell_type": "code",
   "execution_count": 48,
   "metadata": {},
   "outputs": [],
   "source": [
    "train = TensorDataset(\n",
    "    torch.from_numpy(X.values.astype(np.float32)),\n",
    "    torch.from_numpy(y.values))\n",
    "train_batcher = DataLoader(train, batch_size=42*50)"
   ]
  },
  {
   "cell_type": "markdown",
   "metadata": {},
   "source": [
    "## Load and Fit the Model"
   ]
  },
  {
   "cell_type": "code",
   "execution_count": 63,
   "metadata": {},
   "outputs": [],
   "source": [
    "from draftbot_learn import DraftBotModel"
   ]
  },
  {
   "cell_type": "code",
   "execution_count": 64,
   "metadata": {},
   "outputs": [],
   "source": [
    "def loss_function(logps, ys):\n",
    "    return -torch.mean(logps[range(ys.shape[0]), ys])"
   ]
  },
  {
   "cell_type": "code",
   "execution_count": 65,
   "metadata": {},
   "outputs": [],
   "source": [
    "draftbot = DraftBotModel(n_cards=N_CARDS, n_archetypes=10)"
   ]
  },
  {
   "cell_type": "code",
   "execution_count": 66,
   "metadata": {},
   "outputs": [],
   "source": [
    "def fit(model, train_batcher, *, n_epochs=25, learning_rate=0.005, alpha=0.001, report_freq=1):\n",
    "    epoch_losses = []\n",
    "    for epoch in range(n_epochs):\n",
    "        batch_losses = []\n",
    "        for Xb, yb in train_batcher:\n",
    "            log_probs = model.forward(Xb)\n",
    "            raw_loss = loss_function(log_probs, yb)\n",
    "            regularized_loss = raw_loss + alpha * torch.sum(draftbot.weights ** 2)\n",
    "            regularized_loss.backward()\n",
    "            with torch.no_grad():\n",
    "                batch_losses.append(raw_loss.item())\n",
    "                draftbot.weights -= learning_rate * draftbot.weights.grad\n",
    "                draftbot.weights.grad.zero_()\n",
    "        epoch_loss = np.mean(batch_losses)\n",
    "        epoch_losses.append(epoch_loss)\n",
    "        if epoch % report_freq == 0:\n",
    "            print(f\"Epoch {epoch} loss: {epoch_loss}\")\n",
    "    return epoch_losses"
   ]
  },
  {
   "cell_type": "code",
   "execution_count": 67,
   "metadata": {},
   "outputs": [
    {
     "name": "stdout",
     "output_type": "stream",
     "text": [
      "Epoch 0 loss: 1.2792276807500227\n",
      "Epoch 1 loss: 0.7211850989458248\n",
      "Epoch 2 loss: 0.5723510172841776\n",
      "Epoch 3 loss: 0.48419212829743036\n",
      "Epoch 4 loss: 0.4253738519158299\n",
      "Epoch 5 loss: 0.3828793526774618\n",
      "Epoch 6 loss: 0.35067045836966504\n",
      "Epoch 7 loss: 0.32545011945709384\n",
      "Epoch 8 loss: 0.3051788038258099\n",
      "Epoch 9 loss: 0.2885250126883994\n",
      "Epoch 10 loss: 0.2745874701784207\n",
      "Epoch 11 loss: 0.26273834991913575\n",
      "Epoch 12 loss: 0.2525291544010197\n",
      "Epoch 13 loss: 0.24363166390500995\n",
      "Epoch 14 loss: 0.23579985041559012\n",
      "Epoch 15 loss: 0.22884563316182313\n",
      "Epoch 16 loss: 0.22262247014639064\n",
      "Epoch 17 loss: 0.21701458753908381\n",
      "Epoch 18 loss: 0.2119292600661921\n",
      "Epoch 19 loss: 0.20729150262353646\n",
      "Epoch 20 loss: 0.2030401066687312\n",
      "Epoch 21 loss: 0.1991246625511355\n",
      "Epoch 22 loss: 0.1955033371823406\n",
      "Epoch 23 loss: 0.19214117183135107\n",
      "Epoch 24 loss: 0.1890087754410856\n"
     ]
    }
   ],
   "source": [
    "tl = fit(draftbot, train_batcher, n_epochs=25)"
   ]
  },
  {
   "cell_type": "code",
   "execution_count": 68,
   "metadata": {},
   "outputs": [
    {
     "data": {
      "text/plain": [
       "[<matplotlib.lines.Line2D at 0x120695278>]"
      ]
     },
     "execution_count": 68,
     "metadata": {},
     "output_type": "execute_result"
    },
    {
     "data": {
      "image/png": "[encoded data removed]",
      "text/plain": [
       "<Figure size 864x288 with 1 Axes>"
      ]
     },
     "metadata": {
      "needs_background": "light"
     },
     "output_type": "display_data"
    }
   ],
   "source": [
    "fig, ax = plt.subplots(figsize=(12, 4))\n",
    "\n",
    "ax.plot(np.arange(len(tl)), tl)"
   ]
  },
  {
   "cell_type": "markdown",
   "metadata": {},
   "source": [
    "## Constructing The Forward Pass"
   ]
  },
  {
   "cell_type": "markdown",
   "metadata": {},
   "source": [
    "We're going to need a weight array which maps cards to their archetype weights."
   ]
  },
  {
   "cell_type": "code",
   "execution_count": null,
   "metadata": {
    "scrolled": true
   },
   "outputs": [],
   "source": [
    "weights = torch.FloatTensor(N_CARDS, 10).uniform_(0.0, 1.0)\n",
    "weights.requires_grad_()"
   ]
  },
  {
   "cell_type": "code",
   "execution_count": null,
   "metadata": {},
   "outputs": [],
   "source": [
    "options, cards = X_batch[:, :N_CARDS], X_batch[:, N_CARDS:]\n",
    "\n",
    "assert cards.shape == options.shape"
   ]
  },
  {
   "cell_type": "code",
   "execution_count": null,
   "metadata": {},
   "outputs": [],
   "source": [
    "current_archetype_preferences = cards @ weights + 1"
   ]
  },
  {
   "cell_type": "code",
   "execution_count": null,
   "metadata": {},
   "outputs": [],
   "source": [
    "current_archetype_preferences.shape"
   ]
  },
  {
   "cell_type": "code",
   "execution_count": null,
   "metadata": {},
   "outputs": [],
   "source": [
    "option_weights = options.view((42*10, 25, 1)) * weights.reshape((1, 25, 10))"
   ]
  },
  {
   "cell_type": "code",
   "execution_count": null,
   "metadata": {},
   "outputs": [],
   "source": [
    "current_archetype_preferences.shape, option_weights.shape"
   ]
  },
  {
   "cell_type": "code",
   "execution_count": null,
   "metadata": {},
   "outputs": [],
   "source": [
    "current_option_preferences = torch.einsum('pw,pcw->pc', current_archetype_preferences, option_weights)"
   ]
  },
  {
   "cell_type": "code",
   "execution_count": null,
   "metadata": {},
   "outputs": [],
   "source": [
    "current_option_preferences.shape"
   ]
  },
  {
   "cell_type": "code",
   "execution_count": null,
   "metadata": {},
   "outputs": [],
   "source": [
    "pick_probabilities = non_zero_softmax(current_option_preferences)"
   ]
  },
  {
   "cell_type": "code",
   "execution_count": null,
   "metadata": {},
   "outputs": [],
   "source": [
    "loss.backward()"
   ]
  },
  {
   "cell_type": "code",
   "execution_count": null,
   "metadata": {},
   "outputs": [],
   "source": [
    "print(weights.grad)"
   ]
  },
  {
   "cell_type": "markdown",
   "metadata": {},
   "source": [
    "Lets try to put this in a function and actually try to fit the damn thing."
   ]
  },
  {
   "cell_type": "code",
   "execution_count": null,
   "metadata": {},
   "outputs": [],
   "source": [
    "LEARNING_RATE = 0.005\n",
    "N_EPOCHS = 50"
   ]
  },
  {
   "cell_type": "code",
   "execution_count": null,
   "metadata": {},
   "outputs": [],
   "source": [
    "weights = torch.FloatTensor(N_CARDS, 10).uniform_(0.0, 1.0)\n",
    "_ = weights.requires_grad_()"
   ]
  },
  {
   "cell_type": "code",
   "execution_count": null,
   "metadata": {},
   "outputs": [],
   "source": [
    "def stable_non_zero_log_softmax(x):\n",
    "    b = x.max(dim=1).values.view(-1, 1)\n",
    "    stabalized_x = (x - b * x.sign())\n",
    "    log_probs = (\n",
    "        x.sign() * \n",
    "        (stabalized_x - torch.log(torch.sum(x.sign() * torch.exp(stabalized_x), dim=1)).view(-1, 1)))\n",
    "    return log_probs"
   ]
  },
  {
   "cell_type": "code",
   "execution_count": null,
   "metadata": {},
   "outputs": [],
   "source": [
    "def loss_function(logps, ys):\n",
    "    return -torch.mean(logps[range(ys.shape[0]), ys])"
   ]
  },
  {
   "cell_type": "code",
   "execution_count": null,
   "metadata": {},
   "outputs": [],
   "source": [
    "batch_losses = []\n",
    "\n",
    "for epoch in range(N_EPOCHS):\n",
    "    print(\"Epoch\", epoch)\n",
    "    for batch_num, (Xb, yb) in enumerate(train_batcher):\n",
    "        options, cards = Xb[:, :N_CARDS], Xb[:, N_CARDS:]\n",
    "        archetype_preferences = cards @ weights + 1\n",
    "        option_weights = options.view((Xb.shape[0], 25, 1)) * weights.reshape((1, 25, 10))\n",
    "        current_option_preferences = torch.einsum('pw,pcw->pc', archetype_preferences, option_weights)\n",
    "        probs = stable_non_zero_log_softmax(current_option_preferences)\n",
    "        #print(\"Mean Prob Pick:\", torch.mean(probs[range(yb.shape[0]), yb]))\n",
    "        raw_loss = loss_function(probs, yb)\n",
    "        regularized_loss = raw_loss + 0.001 * torch.sum(weights ** 2)\n",
    "        regularized_loss.backward()\n",
    "        with torch.no_grad():\n",
    "            batch_losses.append(raw_loss.item())\n",
    "            weights -= LEARNING_RATE * weights.grad\n",
    "            weights.grad.zero_()\n",
    "        if batch_num % 100 == 0:\n",
    "            print(np.mean(batch_losses))\n",
    "            batch_losses = []\n",
    "            #print(\"Mean Prob Pick:\", torch.mean(probs[range(yb.shape[0]), yb]))\n",
    "            #print(\"Current option preferences:\", current_option_preferences[0])\n",
    "            #print(\"Current probs:\", probs[0])"
   ]
  },
  {
   "cell_type": "code",
   "execution_count": null,
   "metadata": {},
   "outputs": [],
   "source": [
    "class DraftBotLearn(torch.nn.Module):\n",
    "    \n",
    "    def __init__(self, *, n_cards, n_archetypes):\n",
    "        super().__init__()\n",
    "        self.n_cards = n_cards\n",
    "        self.n_archetypes = n_archetypes\n",
    "        self.weights = torch.nn.Parameter(\n",
    "            torch.FloatTensor(n_cards, n_archetypes).uniform_(0.0, 1.0))\n",
    "    \n",
    "    def forward(self, X):\n",
    "        options, cards = Xb[:, :self.n_cards], Xb[:, self.n_cards:]\n",
    "        archetype_preferences = cards @ weights + 1\n",
    "        option_weights = (\n",
    "            options.view((X.shape[0], self.n_cards, 1))\n",
    "            * self.weights.reshape((1, self.n_cards, self.n_archetypes)))\n",
    "        current_option_preferences = torch.einsum(\n",
    "            'pw,pcw->pc', archetype_preferences, option_weights)\n",
    "        log_probs = stable_non_zero_log_softmax(current_option_preferences)\n",
    "        return log_probs"
   ]
  },
  {
   "cell_type": "code",
   "execution_count": null,
   "metadata": {},
   "outputs": [],
   "source": [
    "draftbot = DraftBotLearn(n_cards=25, n_archetypes=10)\n",
    "batch_losses = []\n",
    "\n",
    "for epoch in range(N_EPOCHS):\n",
    "    print(\"Epoch\", epoch)\n",
    "    for batch_num, (Xb, yb) in enumerate(train_batcher):\n",
    "        log_probs = draftbot.forward(Xb)\n",
    "        #print(\"Mean Prob Pick:\", torch.mean(probs[range(yb.shape[0]), yb]))\n",
    "        raw_loss = loss_function(log_probs, yb)\n",
    "        regularized_loss = raw_loss + 0.001 * torch.sum(weights ** 2)\n",
    "        regularized_loss.backward()\n",
    "        with torch.no_grad():\n",
    "            batch_losses.append(raw_loss.item())\n",
    "            draftbot.weights -= LEARNING_RATE * draftbot.weights.grad\n",
    "            draftbot.weights.grad.zero_()\n",
    "        if batch_num % 100 == 0:\n",
    "            print(np.mean(batch_losses))\n",
    "            batch_losses = []\n",
    "            #print(\"Mean Prob Pick:\", torch.mean(probs[range(yb.shape[0]), yb]))\n",
    "            #print(\"Current option preferences:\", current_option_preferences[0])\n",
    "            #print(\"Current probs:\", probs[0])"
   ]
  },
  {
   "cell_type": "code",
   "execution_count": null,
   "metadata": {},
   "outputs": [],
   "source": [
    "weights_df = pd.DataFrame(weights.detach().numpy(), index=y_names_mapping.values())"
   ]
  },
  {
   "cell_type": "code",
   "execution_count": null,
   "metadata": {},
   "outputs": [],
   "source": [
    "weights_df"
   ]
  },
  {
   "cell_type": "code",
   "execution_count": null,
   "metadata": {},
   "outputs": [],
   "source": [
    "fig, ax = plt.subplots(figsize=(12, 12))\n",
    "\n",
    "ax.imshow(weights_df.T.corr().values)\n",
    "\n",
    "ax.set_xticks(np.arange(len(weights_df)))\n",
    "ax.set_yticks(np.arange(len(weights_df)))\n",
    "# ... and label them with the respective list entries\n",
    "ax.set_xticklabels(weights_df.index)\n",
    "ax.set_yticklabels(weights_df.index)\n",
    "\n",
    "_ = plt.setp(ax.get_xticklabels(), rotation=45, ha=\"right\",\n",
    "         rotation_mode=\"anchor\")"
   ]
  },
  {
   "cell_type": "code",
   "execution_count": null,
   "metadata": {},
   "outputs": [],
   "source": [
    "fig, ax = plt.subplots(figsize=(12, 12))\n",
    "\n",
    "ax.imshow(weights_df.values)\n",
    "\n",
    "ax.set_yticks(np.arange(len(weights_df)))\n",
    "_ = ax.set_yticklabels(weights_df.index)"
   ]
  },
  {
   "cell_type": "code",
   "execution_count": null,
   "metadata": {},
   "outputs": [],
   "source": [
    "weights_df.sum(axis=1)"
   ]
  },
  {
   "cell_type": "code",
   "execution_count": null,
   "metadata": {},
   "outputs": [],
   "source": [
    "fig, ax = plt.subplots(figsize=(8, 8))\n",
    "\n",
    "ax.imshow(weights_df.corr().values)\n",
    "\n",
    "#ax.set_xticks(np.arange(len(weights_df)))\n",
    "#ax.set_yticks(np.arange(len(weights_df)))\n",
    "# ... and label them with the respective list entries\n",
    "#ax.set_xticklabels(weights_df.index)\n",
    "#ax.set_yticklabels(weights_df.index)\n",
    "\n",
    "#_ = plt.setp(ax.get_xticklabels(), rotation=45, ha=\"right\",\n",
    "#         rotation_mode=\"anchor\")"
   ]
  },
  {
   "cell_type": "code",
   "execution_count": null,
   "metadata": {},
   "outputs": [],
   "source": []
  },
  {
   "cell_type": "code",
   "execution_count": null,
   "metadata": {},
   "outputs": [],
   "source": []
  }
 ],
 "metadata": {
  "kernelspec": {
   "display_name": "Python 3",
   "language": "python",
   "name": "python3"
  },
  "language_info": {
   "codemirror_mode": {
    "name": "ipython",
    "version": 3
   },
   "file_extension": ".py",
   "mimetype": "text/x-python",
   "name": "python",
   "nbconvert_exporter": "python",
   "pygments_lexer": "ipython3",
   "version": "3.7.1"
  }
 },
 "nbformat": 4,
 "nbformat_minor": 2
}
