{
 "cells": [
  {
   "cell_type": "code",
   "execution_count": 2,
   "metadata": {},
   "outputs": [],
   "source": [
    "import numpy as np\n",
    "import pandas as pd\n",
    "\n",
    "%matplotlib inline\n",
    "import matplotlib.pyplot as plt\n",
    "\n",
    "import json"
   ]
  },
  {
   "cell_type": "markdown",
   "metadata": {},
   "source": [
    "# Rewriting the Draft Algorithm with LA Operations"
   ]
  },
  {
   "cell_type": "code",
   "execution_count": 31,
   "metadata": {},
   "outputs": [],
   "source": [
    "N_DRAFTERS = 4\n",
    "\n",
    "M19_DECK_ARCHYTYPES = (\"WU\", \"WB\", \"WR\", \"WG\", \"UB\", \"UR\", \"UG\", \"BR\", \"BG\", \"GR\")\n",
    "N_ARCHETYPES = len(M19_DECK_ARCHYTYPES)"
   ]
  },
  {
   "cell_type": "code",
   "execution_count": 32,
   "metadata": {},
   "outputs": [],
   "source": [
    "CARD_VALUES_DICT = json.load(open('data/m19-custom-card-values-tuples-reduced.json'))['values']\n",
    "CARD_NAMES = list(card_values)\n",
    "N_CARDS = len(CARD_NAMES)"
   ]
  },
  {
   "cell_type": "markdown",
   "metadata": {},
   "source": [
    "`player_preferences` is an `n_draters * n_arhetypes` array that tracks the player's preference for each archetype.  It is updated each time a player makes a draft pick."
   ]
  },
  {
   "cell_type": "code",
   "execution_count": 34,
   "metadata": {},
   "outputs": [],
   "source": [
    "player_prefercences = np.ones(shape=(N_DRAFTERS, N_ARCHETYPES))"
   ]
  },
  {
   "cell_type": "markdown",
   "metadata": {},
   "source": [
    "`archetype_weights` is a `n_cards * n_archetypes` array containing the rating data for each card in each archetype.  This is what we would want a ML model to learn from actual draft data."
   ]
  },
  {
   "cell_type": "code",
   "execution_count": 35,
   "metadata": {},
   "outputs": [],
   "source": [
    "archetype_weights_df = pd.DataFrame(CARD_VALUES_DICT).T\n",
    "archetype_weights_df.columns = M19_DECK_ARCHYTYPES\n",
    "\n",
    "archetype_weights = archetype_weights_df.values\n",
    "\n",
    "assert(archetype_weights.shape == (N_CARDS, N_ARCHETYPES))"
   ]
  },
  {
   "cell_type": "markdown",
   "metadata": {},
   "source": [
    "`cards_in_pack` is an `n_drafters * n_cards` array that indicates which cards are in the players current pack.  Repeated cards are represented as counts."
   ]
  },
  {
   "cell_type": "code",
   "execution_count": 36,
   "metadata": {},
   "outputs": [],
   "source": [
    "from draftbot import Set"
   ]
  },
  {
   "cell_type": "code",
   "execution_count": 40,
   "metadata": {},
   "outputs": [],
   "source": [
    "m19_reduced_data = json.load(open('data/m19-subset-reduced.json'))\n",
    "m19_reduced_card_values = json.load(open('data/m19-custom-card-values-reduced.json'))\n",
    "m19 = Set(cards=m19_reduced_data, card_values=m19_reduced_card_values)"
   ]
  },
  {
   "cell_type": "code",
   "execution_count": 52,
   "metadata": {},
   "outputs": [],
   "source": [
    "packs = [m19.random_pack() for _ in range(N_DRAFTERS)]\n",
    "\n",
    "cards_in_pack_df = pd.DataFrame(np.zeros(shape=(N_DRAFTERS, N_CARDS), dtype=int), \n",
    "                                columns=CARD_NAMES)\n",
    "\n",
    "# This is probably inefficient...\n",
    "for idx, pack in enumerate(packs):\n",
    "    for card in pack:\n",
    "        name = card['name']\n",
    "        cards_in_pack_df.loc[cards_in_pack_df.index[idx], name] += 1\n",
    "\n",
    "cards_in_pack = cards_in_pack_df.values"
   ]
  },
  {
   "cell_type": "markdown",
   "metadata": {},
   "source": [
    "`card_is_in_pack` is an `n_drafters * n_cards` array that simply indicates if a card is in the pack."
   ]
  },
  {
   "cell_type": "code",
   "execution_count": 56,
   "metadata": {},
   "outputs": [],
   "source": [
    "card_is_in_pack = np.sign(cards_in_pack)"
   ]
  },
  {
   "cell_type": "markdown",
   "metadata": {},
   "source": [
    "`card_is_in_pack_exploded` is a `n_drafters * n_cards * n_archetypes` array that simply copies the `card_is_in_pack` array once into each of the additional `n_archetypes` dimensions."
   ]
  },
  {
   "cell_type": "code",
   "execution_count": 83,
   "metadata": {},
   "outputs": [],
   "source": [
    "card_is_in_pack_exploded = np.repeat(card_is_in_pack[:, :, np.newaxis], N_ARCHETYPES, axis=2)\n",
    "\n",
    "assert(card_is_in_pack_exploded.shape == (N_DRAFTERS, N_CARDS, N_ARCHETYPES))"
   ]
  },
  {
   "cell_type": "code",
   "execution_count": 85,
   "metadata": {},
   "outputs": [],
   "source": [
    "par = np.einsum('dca,ca->dca', card_is_in_pack_exploded, archetype_weights)"
   ]
  },
  {
   "cell_type": "code",
   "execution_count": null,
   "metadata": {},
   "outputs": [],
   "source": []
  }
 ],
 "metadata": {
  "kernelspec": {
   "display_name": "Python 3",
   "language": "python",
   "name": "python3"
  },
  "language_info": {
   "codemirror_mode": {
    "name": "ipython",
    "version": 3
   },
   "file_extension": ".py",
   "mimetype": "text/x-python",
   "name": "python",
   "nbconvert_exporter": "python",
   "pygments_lexer": "ipython3",
   "version": "3.7.1"
  }
 },
 "nbformat": 4,
 "nbformat_minor": 2
}
