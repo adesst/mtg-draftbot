{
 "cells": [
  {
   "cell_type": "code",
   "execution_count": 1,
   "metadata": {},
   "outputs": [],
   "source": [
    "import numpy as np\n",
    "import pandas as pd\n",
    "\n",
    "%matplotlib inline\n",
    "import matplotlib.pyplot as plt\n",
    "\n",
    "import json"
   ]
  },
  {
   "cell_type": "markdown",
   "metadata": {},
   "source": [
    "# Rewriting the Draft Algorithm with Linear Alegebra Operations"
   ]
  },
  {
   "cell_type": "code",
   "execution_count": 2,
   "metadata": {},
   "outputs": [],
   "source": [
    "N_DRAFTERS = 4\n",
    "\n",
    "M19_DECK_ARCHYTYPES = [\"WR\", \"UB\", \"GR\", \"WB\", \"UG\", \"WU\", \"BR\", \"WG\", \"UR\", \"BG\"]\n",
    "N_ARCHETYPES = len(M19_DECK_ARCHYTYPES)"
   ]
  },
  {
   "cell_type": "code",
   "execution_count": 3,
   "metadata": {},
   "outputs": [],
   "source": [
    "CARD_VALUES_DICT = json.load(open('data/m19-custom-card-values-tuples-reduced.json'))['values']\n",
    "CARD_NAMES = list(CARD_VALUES_DICT)\n",
    "N_CARDS = len(CARD_NAMES)"
   ]
  },
  {
   "cell_type": "markdown",
   "metadata": {},
   "source": [
    "`player_preferences` is an `n_draters * n_arhetypes` array that tracks the player's preference for each archetype.  It is updated each time a player makes a draft pick."
   ]
  },
  {
   "cell_type": "code",
   "execution_count": 4,
   "metadata": {},
   "outputs": [],
   "source": [
    "player_prefercences = np.ones(shape=(N_DRAFTERS, N_ARCHETYPES))"
   ]
  },
  {
   "cell_type": "markdown",
   "metadata": {},
   "source": [
    "`archetype_weights` is a `n_cards * n_archetypes` array containing the rating data for each card in each archetype.  This is what we would want a ML model to learn from actual draft data."
   ]
  },
  {
   "cell_type": "code",
   "execution_count": 5,
   "metadata": {},
   "outputs": [],
   "source": [
    "archetype_weights_df = pd.DataFrame(CARD_VALUES_DICT).T\n",
    "archetype_weights_df.columns = M19_DECK_ARCHYTYPES\n",
    "\n",
    "archetype_weights = archetype_weights_df.values\n",
    "\n",
    "assert(archetype_weights.shape == (N_CARDS, N_ARCHETYPES))"
   ]
  },
  {
   "cell_type": "markdown",
   "metadata": {},
   "source": [
    "`cards_in_pack` is an `n_drafters * n_cards` array that indicates which cards are in the players current pack.  Repeated cards are represented as counts."
   ]
  },
  {
   "cell_type": "code",
   "execution_count": 6,
   "metadata": {},
   "outputs": [],
   "source": [
    "from draftbot import Set"
   ]
  },
  {
   "cell_type": "code",
   "execution_count": 7,
   "metadata": {},
   "outputs": [
    {
     "ename": "TypeError",
     "evalue": "__init__() got an unexpected keyword argument 'card_values'",
     "output_type": "error",
     "traceback": [
      "\u001b[0;31m---------------------------------------------------------------------------\u001b[0m",
      "\u001b[0;31mTypeError\u001b[0m                                 Traceback (most recent call last)",
      "\u001b[0;32m<ipython-input-7-2a320f26f754>\u001b[0m in \u001b[0;36m<module>\u001b[0;34m\u001b[0m\n\u001b[1;32m      1\u001b[0m \u001b[0mm19_reduced_data\u001b[0m \u001b[0;34m=\u001b[0m \u001b[0mjson\u001b[0m\u001b[0;34m.\u001b[0m\u001b[0mload\u001b[0m\u001b[0;34m(\u001b[0m\u001b[0mopen\u001b[0m\u001b[0;34m(\u001b[0m\u001b[0;34m'data/m19-subset-reduced.json'\u001b[0m\u001b[0;34m)\u001b[0m\u001b[0;34m)\u001b[0m\u001b[0;34m\u001b[0m\u001b[0;34m\u001b[0m\u001b[0m\n\u001b[1;32m      2\u001b[0m \u001b[0mm19_reduced_card_values\u001b[0m \u001b[0;34m=\u001b[0m \u001b[0mjson\u001b[0m\u001b[0;34m.\u001b[0m\u001b[0mload\u001b[0m\u001b[0;34m(\u001b[0m\u001b[0mopen\u001b[0m\u001b[0;34m(\u001b[0m\u001b[0;34m'data/m19-custom-card-values-reduced.json'\u001b[0m\u001b[0;34m)\u001b[0m\u001b[0;34m)\u001b[0m\u001b[0;34m\u001b[0m\u001b[0;34m\u001b[0m\u001b[0m\n\u001b[0;32m----> 3\u001b[0;31m \u001b[0mm19\u001b[0m \u001b[0;34m=\u001b[0m \u001b[0mSet\u001b[0m\u001b[0;34m(\u001b[0m\u001b[0mcards\u001b[0m\u001b[0;34m=\u001b[0m\u001b[0mm19_reduced_data\u001b[0m\u001b[0;34m,\u001b[0m \u001b[0mcard_values\u001b[0m\u001b[0;34m=\u001b[0m\u001b[0mm19_reduced_card_values\u001b[0m\u001b[0;34m)\u001b[0m\u001b[0;34m\u001b[0m\u001b[0;34m\u001b[0m\u001b[0m\n\u001b[0m",
      "\u001b[0;31mTypeError\u001b[0m: __init__() got an unexpected keyword argument 'card_values'"
     ]
    }
   ],
   "source": [
    "m19_reduced_data = json.load(open('data/m19-subset-reduced.json'))\n",
    "m19_reduced_card_values = json.load(open('data/m19-custom-card-values-reduced.json'))\n",
    "m19 = Set(cards=m19_reduced_data, card_values=m19_reduced_card_values)"
   ]
  },
  {
   "cell_type": "code",
   "execution_count": null,
   "metadata": {},
   "outputs": [],
   "source": [
    "packs = [m19.random_pack_dict() for _ in range(N_DRAFTERS)]\n",
    "\n",
    "cards_in_pack_df = pd.DataFrame(np.zeros(shape=(N_DRAFTERS, N_CARDS), dtype=int), \n",
    "                                columns=CARD_NAMES)\n",
    "\n",
    "# This is probably inefficient...\n",
    "for idx, pack in enumerate(packs):\n",
    "    for card in pack:\n",
    "        name = card['name']\n",
    "        cards_in_pack_df.loc[cards_in_pack_df.index[idx], name] += 1\n",
    "\n",
    "cards_in_pack = cards_in_pack_df.values"
   ]
  },
  {
   "cell_type": "markdown",
   "metadata": {},
   "source": [
    "`card_is_in_pack` is an `n_drafters * n_cards` array that simply indicates if a card is in the pack."
   ]
  },
  {
   "cell_type": "code",
   "execution_count": null,
   "metadata": {},
   "outputs": [],
   "source": [
    "card_is_in_pack = np.sign(cards_in_pack)"
   ]
  },
  {
   "cell_type": "markdown",
   "metadata": {},
   "source": [
    "`pack_archetype_weights` is a `n_drafters * n_cards * n_archeypes` array that has the same zero/non-zero structure as `cards_in_pack_exploded`.  A non-zero entry in the `(d, c, a)` is the weight for card `c` in arhetype `a`.  A zero entry in the `(d, c, a)` position indicates that the card `c` is not available for drafter `d` in the current pack. "
   ]
  },
  {
   "cell_type": "code",
   "execution_count": null,
   "metadata": {},
   "outputs": [],
   "source": [
    "pack_archetype_weights = (\n",
    "    card_is_in_pack.reshape((N_DRAFTERS, N_CARDS, 1)) * \n",
    "    archetype_weights.reshape((1, N_CARDS, N_ARCHETYPES)))\n",
    "\n",
    "assert(pack_archetype_weights.shape == (N_DRAFTERS, N_CARDS, N_ARCHETYPES))"
   ]
  },
  {
   "cell_type": "markdown",
   "metadata": {},
   "source": [
    "`preferences` is an `n_drafters * n_cards` array containing the total preference for each drafters cards in their current pack.  It is a tensor product between the `pack_archetype_weights` and `player_preferences` array, with the shared `n_arhetype` dimensions contracted together."
   ]
  },
  {
   "cell_type": "code",
   "execution_count": null,
   "metadata": {},
   "outputs": [],
   "source": [
    "preferences = np.einsum('dca,da->dc', pack_archetype_weights, player_prefercences)"
   ]
  },
  {
   "cell_type": "code",
   "execution_count": null,
   "metadata": {},
   "outputs": [],
   "source": [
    "preferences_df = pd.DataFrame(preferences, columns=CARD_NAMES)\n",
    "preferences_df"
   ]
  },
  {
   "cell_type": "markdown",
   "metadata": {},
   "source": [
    "Softmaxing the `preferences` array results in the probability of the drafters picking each card in their pack."
   ]
  },
  {
   "cell_type": "code",
   "execution_count": null,
   "metadata": {},
   "outputs": [],
   "source": [
    "def softmax(x):\n",
    "    exps = np.exp(x)\n",
    "    row_sums = np.sum(exps, axis=1)\n",
    "    probs = exps / row_sums.reshape(-1, 1)\n",
    "    return probs\n",
    "\n",
    "pick_probs = softmax(preferences)"
   ]
  },
  {
   "cell_type": "code",
   "execution_count": null,
   "metadata": {},
   "outputs": [],
   "source": [
    "pick_probs_df = pd.DataFrame(np.round(pick_probs, 2), columns=CARD_NAMES)\n",
    "pick_probs_df"
   ]
  },
  {
   "cell_type": "markdown",
   "metadata": {},
   "source": [
    "Now we actually make a pick by choosing a card according to the probability distribution in each row."
   ]
  },
  {
   "cell_type": "code",
   "execution_count": null,
   "metadata": {},
   "outputs": [],
   "source": [
    "pick = np.zeros((N_DRAFTERS, N_CARDS), dtype=int)\n",
    "\n",
    "for ridx, row in enumerate(pick_probs):\n",
    "    pick_idx = np.random.choice(N_CARDS, p=row)\n",
    "    pick[ridx, pick_idx] = 1"
   ]
  },
  {
   "cell_type": "code",
   "execution_count": null,
   "metadata": {},
   "outputs": [],
   "source": [
    "pick_df = pd.DataFrame(pick, columns=CARD_NAMES)\n",
    "pick_df"
   ]
  },
  {
   "cell_type": "markdown",
   "metadata": {},
   "source": [
    "### Update Rules"
   ]
  },
  {
   "cell_type": "markdown",
   "metadata": {},
   "source": [
    "Now we update the two data structures:\n",
    "    \n",
    "  - The `cards_in_pack` array is updated by removing one copy of the picked card from each pack.  Then each pack goes to the next player in line, which we accomplish by rotating the rows of the `cards_in_pack` array.\n",
    "  - The `player_preferences` array is updated by adding the archetype weights of the chosen card to the player's row."
   ]
  },
  {
   "cell_type": "code",
   "execution_count": null,
   "metadata": {},
   "outputs": [],
   "source": [
    "cards_in_pack_new = card_is_in_pack - pick"
   ]
  },
  {
   "cell_type": "code",
   "execution_count": null,
   "metadata": {},
   "outputs": [],
   "source": [
    "cards_in_pack_new_df = pd.DataFrame(cards_in_pack_new, columns=CARD_NAMES)\n",
    "cards_in_pack_new_df"
   ]
  },
  {
   "cell_type": "code",
   "execution_count": null,
   "metadata": {},
   "outputs": [],
   "source": [
    "player_preferences_new = player_prefercences + np.einsum(\n",
    "    'ca,pc->pa', archetype_weights, pick)"
   ]
  },
  {
   "cell_type": "code",
   "execution_count": null,
   "metadata": {},
   "outputs": [],
   "source": [
    "player_preferences_new_df = pd.DataFrame(player_preferences_new, columns=M19_DECK_ARCHYTYPES)\n",
    "player_preferences_new_df"
   ]
  },
  {
   "cell_type": "code",
   "execution_count": null,
   "metadata": {},
   "outputs": [],
   "source": [
    "\n"
   ]
  },
  {
   "cell_type": "code",
   "execution_count": null,
   "metadata": {},
   "outputs": [],
   "source": []
  },
  {
   "cell_type": "code",
   "execution_count": null,
   "metadata": {},
   "outputs": [],
   "source": []
  },
  {
   "cell_type": "code",
   "execution_count": null,
   "metadata": {},
   "outputs": [],
   "source": [
    "x = np.array([[1, 1], [2, 2], [3, 3], [4, 4]])"
   ]
  },
  {
   "cell_type": "code",
   "execution_count": null,
   "metadata": {},
   "outputs": [],
   "source": [
    "def rotate_array(x, forwards=True):\n",
    "    newx = np.zeros(x.shape)\n",
    "    if forwards:\n",
    "        newx[0, :] = x[-1, :]\n",
    "        newx[1:, :] = x[:-1, :]\n",
    "    else:\n",
    "        newx[-1, :] = x[0, :]\n",
    "        newx[:-1, :] = x[1:, :]\n",
    "    return newx"
   ]
  },
  {
   "cell_type": "code",
   "execution_count": null,
   "metadata": {},
   "outputs": [],
   "source": [
    "rotate_array(x, False)"
   ]
  },
  {
   "cell_type": "code",
   "execution_count": null,
   "metadata": {},
   "outputs": [],
   "source": []
  }
 ],
 "metadata": {
  "kernelspec": {
   "display_name": "Python 3",
   "language": "python",
   "name": "python3"
  },
  "language_info": {
   "codemirror_mode": {
    "name": "ipython",
    "version": 3
   },
   "file_extension": ".py",
   "mimetype": "text/x-python",
   "name": "python",
   "nbconvert_exporter": "python",
   "pygments_lexer": "ipython3",
   "version": "3.7.1"
  }
 },
 "nbformat": 4,
 "nbformat_minor": 2
}
